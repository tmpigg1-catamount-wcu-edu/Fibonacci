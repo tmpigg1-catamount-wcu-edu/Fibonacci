{
 "cells": [
  {
   "cell_type": "code",
   "execution_count": 19,
   "metadata": {},
   "outputs": [],
   "source": [
    "original = open(\"fib.txt\", \"r\")\n",
    "new = open(\"fib_bin.txt\", \"w\")\n",
    "bten = original.readline()\n",
    "bten = bten.rstrip('\\n')\n",
    "btwo = 0\n",
    "while bten!=\"\":\n",
    "    bten = int(bten)\n",
    "    btwo = str(bin(bten)) + '\\n'\n",
    "    btwo = btwo[:2]\n",
    "    new.write(btwo)\n",
    "    bten = original.readline()\n",
    "    bten = bten.rstrip('\\n')\n"
   ]
  }
 ],
 "metadata": {
  "kernelspec": {
   "display_name": "Python 3",
   "language": "python",
   "name": "python3"
  },
  "language_info": {
   "codemirror_mode": {
    "name": "ipython",
    "version": 3
   },
   "file_extension": ".py",
   "mimetype": "text/x-python",
   "name": "python",
   "nbconvert_exporter": "python",
   "pygments_lexer": "ipython3",
   "version": "3.6.6"
  }
 },
 "nbformat": 4,
 "nbformat_minor": 2
}

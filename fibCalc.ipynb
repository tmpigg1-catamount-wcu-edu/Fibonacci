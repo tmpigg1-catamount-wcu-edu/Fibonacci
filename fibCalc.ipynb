{
 "cells": [
  {
   "cell_type": "code",
   "execution_count": 3,
   "metadata": {},
   "outputs": [
    {
     "name": "stdout",
     "output_type": "stream",
     "text": [
      "Please enter a number\t100\n"
     ]
    }
   ],
   "source": [
    "fib = [0, 1]\n",
    "file=open(\"fib.txt\",\"w\")\n",
    "num_times = int(input(\"Please enter a number\\t\"))\n",
    "count = 0\n",
    "while count < num_times:\n",
    "    num = fib[0]+fib[1]\n",
    "    file.write(\"%s\\n\" % fib[0])\n",
    "    fib.append(num)\n",
    "    fib.pop(0)\n",
    "    count = count+1\n",
    "file.close()"
   ]
  }
 ],
 "metadata": {
  "kernelspec": {
   "display_name": "Python 3",
   "language": "python",
   "name": "python3"
  },
  "language_info": {
   "codemirror_mode": {
    "name": "ipython",
    "version": 3
   },
   "file_extension": ".py",
   "mimetype": "text/x-python",
   "name": "python",
   "nbconvert_exporter": "python",
   "pygments_lexer": "ipython3",
   "version": "3.6.6"
  }
 },
 "nbformat": 4,
 "nbformat_minor": 2
}
